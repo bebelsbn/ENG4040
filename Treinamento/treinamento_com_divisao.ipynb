{
 "cells": [
  {
   "cell_type": "markdown",
   "id": "e0e79bc2",
   "metadata": {},
   "source": [
    "# Treinamento de Modelos Preditivos com Divisão por Sensibilidade CID-10\n",
    "\n",
    "Este notebook realiza o treinamento de modelos preditivos para previsão de óbitos por doenças respiratórias, utilizando a segmentação por sensibilidade com base nos códigos CID-10 (Alta, Média, Baixa Sensibilidade) e a base completa com clusters. Essa divisão visa melhorar a performance dos modelos e permitir interpretações mais específicas sobre o impacto dos fatores ambientais em diferentes tipos de doenças.\n"
   ]
  },
  {
   "cell_type": "code",
   "execution_count": 64,
   "id": "162433cb",
   "metadata": {},
   "outputs": [],
   "source": [
    "import pandas as pd\n",
    "import numpy as np\n",
    "import seaborn as sns\n",
    "import matplotlib.pyplot as pltß\n",
    "from sklearn.model_selection import train_test_split\n",
    "from sklearn.linear_model import LinearRegression\n",
    "from sklearn.ensemble import RandomForestRegressor\n",
    "from sklearn.tree import DecisionTreeRegressor\n",
    "from xgboost import XGBRegressor\n",
    "from sklearn.metrics import mean_absolute_error, mean_squared_error, r2_score\n"
   ]
  },
  {
   "cell_type": "code",
   "execution_count": 65,
   "id": "c72984a8",
   "metadata": {},
   "outputs": [],
   "source": [
    "def avaliar_modelo(y_true, y_pred, X_test):\n",
    "    n = len(y_true)\n",
    "    p = X_test.shape[1]\n",
    "    r2 = r2_score(y_true, y_pred)\n",
    "    r2_ajustado = 1 - (1 - r2) * (n - 1) / (n - p - 1)\n",
    "\n",
    "    print(\"MAE:\", round(mean_absolute_error(y_true, y_pred), 4))\n",
    "    print(\"MSE:\", round(mean_squared_error(y_true, y_pred), 4))\n",
    "    print(\"RMSE:\", round(np.sqrt(mean_squared_error(y_true, y_pred)), 4))\n",
    "    print(\"R²:\", round(r2, 4))\n",
    "    print(\"R² Ajustado:\", round(r2_ajustado, 4))\n",
    "    print()\n"
   ]
  },
  {
   "cell_type": "markdown",
   "id": "64708f8b",
   "metadata": {},
   "source": [
    "## Treinamento - Alta Sensibilidade"
   ]
  },
  {
   "cell_type": "code",
   "execution_count": 66,
   "id": "0da3c5ae",
   "metadata": {},
   "outputs": [],
   "source": [
    "# Carregar os dados: Alta Sensibilidade\n",
    "df = pd.read_csv(\"/Users/mariaisabel/Documents/PUC/5°Periodo/Projeto CD/ENG4040/Divisao/planilha_alta.csv\")\n",
    "\n",
    "# Seleção de features numéricas\n",
    "features = [\"AREA_DESMATADA_KM2\", \"FRP\", \"RISCOFOGO\", \"PRECIPITACAO\", \"DIASEMCHUVA\", \"pm2.5_atm\"]\n",
    "X = df[features].apply(pd.to_numeric, errors=\"coerce\")  # Converte para numérico (tratando \"-\")\n",
    "\n",
    "# Converter coluna alvo para numérico e tratar erros\n",
    "y = pd.to_numeric(df[\"OBITOS\"], errors=\"coerce\")\n",
    "\n",
    "# Tratamento de valores faltantes\n",
    "X = X.fillna(X.mean())\n",
    "y = y.fillna(y.mean())\n",
    "\n",
    "# Separar em treino e teste\n",
    "X_train, X_test, y_train, y_test = train_test_split(X, y, test_size=0.3, random_state=42)\n"
   ]
  },
  {
   "cell_type": "code",
   "execution_count": 67,
   "id": "4cecc9c7",
   "metadata": {},
   "outputs": [
    {
     "name": "stdout",
     "output_type": "stream",
     "text": [
      "== Regressão Linear Múltipla ==\n",
      "MAE: 1.7724\n",
      "MSE: 7.4631\n",
      "RMSE: 2.7319\n",
      "R²: -0.3444\n",
      "R² Ajustado: -0.4164\n",
      "\n"
     ]
    }
   ],
   "source": [
    "# Modelo: Regressão Linear\n",
    "lr = LinearRegression()\n",
    "lr.fit(X_train, y_train)\n",
    "y_pred_lr = lr.predict(X_test)\n",
    "\n",
    "print(\"== Regressão Linear Múltipla ==\")\n",
    "avaliar_modelo(y_test, y_pred_lr, X_test)\n"
   ]
  },
  {
   "cell_type": "code",
   "execution_count": 68,
   "id": "31a7071e",
   "metadata": {},
   "outputs": [
    {
     "name": "stdout",
     "output_type": "stream",
     "text": [
      "== Árvore de Regressão ==\n",
      "MAE: 2.3669\n",
      "MSE: 10.3106\n",
      "RMSE: 3.211\n",
      "R²: -0.8574\n",
      "R² Ajustado: -0.9569\n",
      "\n"
     ]
    }
   ],
   "source": [
    "# ÁRVORE DE REGRESSÃO\n",
    "# =====================\n",
    "tree = DecisionTreeRegressor(random_state=42)\n",
    "tree.fit(X_train, y_train)\n",
    "y_pred_tree = tree.predict(X_test)\n",
    "\n",
    "print(\"== Árvore de Regressão ==\")\n",
    "avaliar_modelo(y_test, y_pred_tree, X_test)\n"
   ]
  },
  {
   "cell_type": "code",
   "execution_count": 69,
   "id": "ea97eb1d",
   "metadata": {},
   "outputs": [
    {
     "name": "stdout",
     "output_type": "stream",
     "text": [
      "== XGBoost ==\n",
      "MAE: 2.3667\n",
      "MSE: 10.3093\n",
      "RMSE: 3.2108\n",
      "R²: -0.8571\n",
      "R² Ajustado: -0.9566\n",
      "\n"
     ]
    }
   ],
   "source": [
    "# XGBOOST\n",
    "# =====================\n",
    "xgb = XGBRegressor(n_estimators=100, random_state=42)\n",
    "xgb.fit(X_train, y_train)\n",
    "y_pred_xgb = xgb.predict(X_test)\n",
    "\n",
    "print(\"== XGBoost ==\")\n",
    "avaliar_modelo(y_test, y_pred_xgb, X_test)"
   ]
  },
  {
   "cell_type": "code",
   "execution_count": 70,
   "id": "bc915053",
   "metadata": {},
   "outputs": [
    {
     "name": "stdout",
     "output_type": "stream",
     "text": [
      "== Random Forest ==\n",
      "MAE: 2.4199\n",
      "MSE: 10.5273\n",
      "RMSE: 3.2446\n",
      "R²: -0.8964\n",
      "R² Ajustado: -0.998\n",
      "\n"
     ]
    }
   ],
   "source": [
    "# RANDOM FOREST\n",
    "# =====================\n",
    "rf = RandomForestRegressor(n_estimators=100, random_state=42)\n",
    "rf.fit(X_train, y_train)\n",
    "y_pred_rf = rf.predict(X_test)\n",
    "\n",
    "print(\"== Random Forest ==\")\n",
    "avaliar_modelo(y_test, y_pred_rf, X_test)\n"
   ]
  },
  {
   "cell_type": "markdown",
   "id": "13fdc850",
   "metadata": {},
   "source": [
    "## Treinamento - Média Sensibilidade"
   ]
  },
  {
   "cell_type": "code",
   "execution_count": 71,
   "id": "790b3605",
   "metadata": {},
   "outputs": [],
   "source": [
    "# Carregar os dados: Média Sensibilidade\n",
    "df = pd.read_csv(\"/Users/mariaisabel/Documents/PUC/5°Periodo/Projeto CD/ENG4040/Divisao/planilha_media.csv\")\n",
    "\n",
    "# Seleção de features numéricas\n",
    "features = [\"AREA_DESMATADA_KM2\", \"FRP\", \"RISCOFOGO\", \"PRECIPITACAO\", \"DIASEMCHUVA\", \"pm2.5_atm\"]\n",
    "X = df[features].apply(pd.to_numeric, errors=\"coerce\")  # Converte para numérico (tratando \"-\")\n",
    "\n",
    "# Converter coluna alvo para numérico e tratar erros\n",
    "y = pd.to_numeric(df[\"OBITOS\"], errors=\"coerce\")\n",
    "\n",
    "# Tratamento de valores faltantes\n",
    "X = X.fillna(X.mean())\n",
    "y = y.fillna(y.mean())\n",
    "\n",
    "# Separar em treino e teste\n",
    "X_train, X_test, y_train, y_test = train_test_split(X, y, test_size=0.3, random_state=42)\n"
   ]
  },
  {
   "cell_type": "code",
   "execution_count": 72,
   "id": "d3b6110b",
   "metadata": {},
   "outputs": [
    {
     "name": "stdout",
     "output_type": "stream",
     "text": [
      "== Regressão Linear Múltipla ==\n",
      "MAE: 7.3875\n",
      "MSE: 107.9349\n",
      "RMSE: 10.3892\n",
      "R²: -0.1494\n",
      "R² Ajustado: -0.2296\n",
      "\n"
     ]
    }
   ],
   "source": [
    "# Modelo: Regressão Linear\n",
    "lr = LinearRegression()\n",
    "lr.fit(X_train, y_train)\n",
    "y_pred_lr = lr.predict(X_test)\n",
    "\n",
    "print(\"== Regressão Linear Múltipla ==\")\n",
    "avaliar_modelo(y_test, y_pred_lr, X_test)\n"
   ]
  },
  {
   "cell_type": "code",
   "execution_count": 73,
   "id": "ff2a93d7",
   "metadata": {},
   "outputs": [
    {
     "name": "stdout",
     "output_type": "stream",
     "text": [
      "== Árvore de Regressão ==\n",
      "MAE: 8.3337\n",
      "MSE: 127.8207\n",
      "RMSE: 11.3058\n",
      "R²: -0.3612\n",
      "R² Ajustado: -0.4561\n",
      "\n"
     ]
    }
   ],
   "source": [
    "# ÁRVORE DE REGRESSÃO\n",
    "# =====================\n",
    "tree = DecisionTreeRegressor(random_state=42)\n",
    "tree.fit(X_train, y_train)\n",
    "y_pred_tree = tree.predict(X_test)\n",
    "\n",
    "print(\"== Árvore de Regressão ==\")\n",
    "avaliar_modelo(y_test, y_pred_tree, X_test)\n"
   ]
  },
  {
   "cell_type": "code",
   "execution_count": 74,
   "id": "e0387c44",
   "metadata": {},
   "outputs": [
    {
     "name": "stdout",
     "output_type": "stream",
     "text": [
      "== XGBoost ==\n",
      "MAE: 8.3335\n",
      "MSE: 127.8167\n",
      "RMSE: 11.3056\n",
      "R²: -0.3611\n",
      "R² Ajustado: -0.4561\n",
      "\n"
     ]
    }
   ],
   "source": [
    "# XGBOOST\n",
    "# =====================\n",
    "xgb = XGBRegressor(n_estimators=100, random_state=42)\n",
    "xgb.fit(X_train, y_train)\n",
    "y_pred_xgb = xgb.predict(X_test)\n",
    "\n",
    "print(\"== XGBoost ==\")\n",
    "avaliar_modelo(y_test, y_pred_xgb, X_test)"
   ]
  },
  {
   "cell_type": "code",
   "execution_count": 75,
   "id": "d9f27c5a",
   "metadata": {},
   "outputs": [
    {
     "name": "stdout",
     "output_type": "stream",
     "text": [
      "== Árvore de Regressão ==\n",
      "MAE: 8.3337\n",
      "MSE: 127.8207\n",
      "RMSE: 11.3058\n",
      "R²: -0.3612\n",
      "R² Ajustado: -0.4561\n",
      "\n"
     ]
    }
   ],
   "source": [
    "# ÁRVORE DE REGRESSÃO\n",
    "# =====================\n",
    "tree = DecisionTreeRegressor(random_state=42)\n",
    "tree.fit(X_train, y_train)\n",
    "y_pred_tree = tree.predict(X_test)\n",
    "\n",
    "print(\"== Árvore de Regressão ==\")\n",
    "avaliar_modelo(y_test, y_pred_tree, X_test)\n"
   ]
  },
  {
   "cell_type": "code",
   "execution_count": 76,
   "id": "012b47a2",
   "metadata": {},
   "outputs": [
    {
     "name": "stdout",
     "output_type": "stream",
     "text": [
      "== Random Forest ==\n",
      "MAE: 8.2544\n",
      "MSE: 124.7333\n",
      "RMSE: 11.1684\n",
      "R²: -0.3283\n",
      "R² Ajustado: -0.421\n",
      "\n"
     ]
    }
   ],
   "source": [
    "# RANDOM FOREST\n",
    "# =====================\n",
    "rf = RandomForestRegressor(n_estimators=100, random_state=42)\n",
    "rf.fit(X_train, y_train)\n",
    "y_pred_rf = rf.predict(X_test)\n",
    "\n",
    "print(\"== Random Forest ==\")\n",
    "avaliar_modelo(y_test, y_pred_rf, X_test)\n"
   ]
  },
  {
   "cell_type": "markdown",
   "id": "ba46066c",
   "metadata": {},
   "source": [
    "## Treinamento - Baixa Sensibilidade"
   ]
  },
  {
   "cell_type": "code",
   "execution_count": 77,
   "id": "85d4520c",
   "metadata": {},
   "outputs": [],
   "source": [
    "# Carregar os dados: Média Sensibilidade\n",
    "df = pd.read_csv(\"/Users/mariaisabel/Documents/PUC/5°Periodo/Projeto CD/ENG4040/Divisao/planilha_baixa.csv\")\n",
    "\n",
    "# Seleção de features numéricas\n",
    "features = [\"AREA_DESMATADA_KM2\", \"FRP\", \"RISCOFOGO\", \"PRECIPITACAO\", \"DIASEMCHUVA\", \"pm2.5_atm\"]\n",
    "X = df[features].apply(pd.to_numeric, errors=\"coerce\")  # Converte para numérico (tratando \"-\")\n",
    "\n",
    "# Converter coluna alvo para numérico e tratar erros\n",
    "y = pd.to_numeric(df[\"OBITOS\"], errors=\"coerce\")\n",
    "\n",
    "# Tratamento de valores faltantes\n",
    "X = X.fillna(X.mean())\n",
    "y = y.fillna(y.mean())\n",
    "\n",
    "# Separar em treino e teste\n",
    "X_train, X_test, y_train, y_test = train_test_split(X, y, test_size=0.3, random_state=42)\n"
   ]
  },
  {
   "cell_type": "code",
   "execution_count": 78,
   "id": "53b5f8db",
   "metadata": {},
   "outputs": [
    {
     "name": "stdout",
     "output_type": "stream",
     "text": [
      "== Regressão Linear Múltipla ==\n",
      "MAE: 1.11\n",
      "MSE: 2.9629\n",
      "RMSE: 1.7213\n",
      "R²: -0.0658\n",
      "R² Ajustado: -0.1009\n",
      "\n"
     ]
    }
   ],
   "source": [
    "# Modelo: Regressão Linear\n",
    "lr = LinearRegression()\n",
    "lr.fit(X_train, y_train)\n",
    "y_pred_lr = lr.predict(X_test)\n",
    "\n",
    "print(\"== Regressão Linear Múltipla ==\")\n",
    "avaliar_modelo(y_test, y_pred_lr, X_test)\n"
   ]
  },
  {
   "cell_type": "code",
   "execution_count": 79,
   "id": "c7613249",
   "metadata": {},
   "outputs": [
    {
     "name": "stdout",
     "output_type": "stream",
     "text": [
      "== Árvore de Regressão ==\n",
      "MAE: 1.384\n",
      "MSE: 6.0476\n",
      "RMSE: 2.4592\n",
      "R²: -1.1754\n",
      "R² Ajustado: -1.2471\n",
      "\n"
     ]
    }
   ],
   "source": [
    "# ÁRVORE DE REGRESSÃO\n",
    "# =====================\n",
    "tree = DecisionTreeRegressor(random_state=42)\n",
    "tree.fit(X_train, y_train)\n",
    "y_pred_tree = tree.predict(X_test)\n",
    "\n",
    "print(\"== Árvore de Regressão ==\")\n",
    "avaliar_modelo(y_test, y_pred_tree, X_test)\n"
   ]
  },
  {
   "cell_type": "code",
   "execution_count": 80,
   "id": "06114f5e",
   "metadata": {},
   "outputs": [
    {
     "name": "stdout",
     "output_type": "stream",
     "text": [
      "== XGBoost ==\n",
      "MAE: 1.3839\n",
      "MSE: 6.0473\n",
      "RMSE: 2.4591\n",
      "R²: -1.1753\n",
      "R² Ajustado: -1.247\n",
      "\n"
     ]
    }
   ],
   "source": [
    "# XGBOOST\n",
    "xgb = XGBRegressor(n_estimators=100, random_state=42)\n",
    "xgb.fit(X_train, y_train)\n",
    "y_pred_xgb = xgb.predict(X_test)\n",
    "\n",
    "print(\"== XGBoost ==\")\n",
    "avaliar_modelo(y_test, y_pred_xgb, X_test)"
   ]
  },
  {
   "cell_type": "code",
   "execution_count": 81,
   "id": "dfcc91f6",
   "metadata": {},
   "outputs": [
    {
     "name": "stdout",
     "output_type": "stream",
     "text": [
      "== Random Forest ==\n",
      "MAE: 1.387\n",
      "MSE: 5.9751\n",
      "RMSE: 2.4444\n",
      "R²: -1.1493\n",
      "R² Ajustado: -1.2202\n",
      "\n"
     ]
    }
   ],
   "source": [
    "# RANDOM FOREST\n",
    "# =====================\n",
    "rf = RandomForestRegressor(n_estimators=100, random_state=42)\n",
    "rf.fit(X_train, y_train)\n",
    "y_pred_rf = rf.predict(X_test)\n",
    "\n",
    "print(\"== Random Forest ==\")\n",
    "avaliar_modelo(y_test, y_pred_rf, X_test)\n"
   ]
  },
  {
   "cell_type": "markdown",
   "id": "ab1508ff",
   "metadata": {},
   "source": [
    "## Treinamento - Base Unificada com Cluster"
   ]
  },
  {
   "cell_type": "code",
   "execution_count": 82,
   "id": "52d4d460",
   "metadata": {},
   "outputs": [],
   "source": [
    "# Carregar os dados: Base Unificada com Cluster\n",
    "df = pd.read_csv(\"/Users/mariaisabel/Documents/PUC/5°Periodo/Projeto CD/ENG4040/Clustering/planilha/planilha_unificada_clusterizado.csv\")\n",
    "\n",
    "# Seleção de features numéricas\n",
    "features = [\"AREA_DESMATADA_KM2\", \"FRP\", \"RISCOFOGO\", \"PRECIPITACAO\", \"DIASEMCHUVA\", \"pm2.5_atm\"]\n",
    "X = df[features]\n",
    "y = df[\"OBITOS\"]\n",
    "\n",
    "# Tratamento de valores faltantes\n",
    "X = X.fillna(X.mean())\n",
    "y = y.fillna(y.mean())\n",
    "\n",
    "# Separar em treino e teste\n",
    "X_train, X_test, y_train, y_test = train_test_split(X, y, test_size=0.3, random_state=42)\n"
   ]
  },
  {
   "cell_type": "code",
   "execution_count": 83,
   "id": "4a7699be",
   "metadata": {},
   "outputs": [
    {
     "name": "stdout",
     "output_type": "stream",
     "text": [
      "== Regressão Linear Múltipla ==\n",
      "MAE: 6.4471\n",
      "MSE: 115.2474\n",
      "RMSE: 10.7353\n",
      "R²: 0.0189\n",
      "R² Ajustado: -0.0332\n",
      "\n"
     ]
    }
   ],
   "source": [
    "# Modelo: Regressão Linear\n",
    "lr = LinearRegression()\n",
    "lr.fit(X_train, y_train)\n",
    "y_pred_lr = lr.predict(X_test)\n",
    "\n",
    "print(\"== Regressão Linear Múltipla ==\")\n",
    "avaliar_modelo(y_test, y_pred_lr, X_test)\n"
   ]
  },
  {
   "cell_type": "code",
   "execution_count": 84,
   "id": "75b816ae",
   "metadata": {},
   "outputs": [
    {
     "name": "stdout",
     "output_type": "stream",
     "text": [
      "== XGBoost ==\n",
      "MAE: 6.4828\n",
      "MSE: 114.8794\n",
      "RMSE: 10.7182\n",
      "R²: 0.0221\n",
      "R² Ajustado: -0.0299\n",
      "\n"
     ]
    }
   ],
   "source": [
    "# XGBOOST\n",
    "xgb = XGBRegressor(n_estimators=100, random_state=42)\n",
    "xgb.fit(X_train, y_train)\n",
    "y_pred_xgb = xgb.predict(X_test)\n",
    "\n",
    "print(\"== XGBoost ==\")\n",
    "avaliar_modelo(y_test, y_pred_xgb, X_test)"
   ]
  },
  {
   "cell_type": "code",
   "execution_count": 85,
   "id": "4eda4e8e",
   "metadata": {},
   "outputs": [
    {
     "name": "stdout",
     "output_type": "stream",
     "text": [
      "== Árvore de Regressão ==\n",
      "MAE: 6.4828\n",
      "MSE: 114.8799\n",
      "RMSE: 10.7182\n",
      "R²: 0.0221\n",
      "R² Ajustado: -0.0299\n",
      "\n"
     ]
    }
   ],
   "source": [
    "# ÁRVORE DE REGRESSÃO\n",
    "# =====================\n",
    "tree = DecisionTreeRegressor(random_state=42)\n",
    "tree.fit(X_train, y_train)\n",
    "y_pred_tree = tree.predict(X_test)\n",
    "\n",
    "print(\"== Árvore de Regressão ==\")\n",
    "avaliar_modelo(y_test, y_pred_tree, X_test)\n"
   ]
  },
  {
   "cell_type": "code",
   "execution_count": 86,
   "id": "03f99827",
   "metadata": {},
   "outputs": [
    {
     "name": "stdout",
     "output_type": "stream",
     "text": [
      "== Random Forest ==\n",
      "MAE: 6.511\n",
      "MSE: 112.7109\n",
      "RMSE: 10.6165\n",
      "R²: 0.0405\n",
      "R² Ajustado: -0.0104\n",
      "\n"
     ]
    }
   ],
   "source": [
    "# RANDOM FOREST\n",
    "# =====================\n",
    "rf = RandomForestRegressor(n_estimators=100, random_state=42)\n",
    "rf.fit(X_train, y_train)\n",
    "y_pred_rf = rf.predict(X_test)\n",
    "\n",
    "print(\"== Random Forest ==\")\n",
    "avaliar_modelo(y_test, y_pred_rf, X_test)\n"
   ]
  }
 ],
 "metadata": {
  "kernelspec": {
   "display_name": ".venv",
   "language": "python",
   "name": "python3"
  },
  "language_info": {
   "codemirror_mode": {
    "name": "ipython",
    "version": 3
   },
   "file_extension": ".py",
   "mimetype": "text/x-python",
   "name": "python",
   "nbconvert_exporter": "python",
   "pygments_lexer": "ipython3",
   "version": "3.9.6"
  }
 },
 "nbformat": 4,
 "nbformat_minor": 5
}
