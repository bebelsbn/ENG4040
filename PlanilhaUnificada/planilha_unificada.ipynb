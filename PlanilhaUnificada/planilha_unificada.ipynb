{
 "cells": [
  {
   "cell_type": "markdown",
   "id": "58fb78bc",
   "metadata": {},
   "source": [
    "TRATAMENTO DOS DADOS"
   ]
  },
  {
   "cell_type": "code",
   "execution_count": 2,
   "id": "8017a126",
   "metadata": {},
   "outputs": [],
   "source": [
    "import pandas as pd\n",
    "\n",
    "# 1. Carregar os dados\n",
    "df_desmatamento = pd.read_csv('estimativa_manaus_mensal.csv', sep=';')\n",
    "df_mortalidade = pd.read_csv('mortalidade_unificada.csv')\n",
    "df_queimadas = pd.read_csv('queimadas_unificadas.csv')\n",
    "\n",
    "# 2. Padronizar nomes\n",
    "df_desmatamento.columns = ['ANO', 'MES', 'AREA_DESMATADA_KM2']\n",
    "df_queimadas.columns = df_queimadas.columns.str.upper()\n",
    "\n",
    "# 3. Transformar mortalidade para formato longo (mantendo CID-10)\n",
    "meses_map = {\n",
    "    'Janeiro': 1, 'Fevereiro': 2, 'Março': 3, 'Abril': 4, 'Maio': 5, 'Junho': 6,\n",
    "    'Julho': 7, 'Agosto': 8, 'Setembro': 9, 'Outubro': 10, 'Novembro': 11, 'Dezembro': 12\n",
    "}\n",
    "df_mortalidade_long = df_mortalidade.melt(\n",
    "    id_vars=['ANO', 'Categoria CID-10'],\n",
    "    var_name='MES', value_name='OBITOS'\n",
    ")\n",
    "df_mortalidade_long['MES'] = df_mortalidade_long['MES'].map(meses_map)\n",
    "\n",
    "# 4. Agregar queimadas por ano/mês\n",
    "df_queimadas['MES'] = df_queimadas['MES'].astype(int)\n",
    "df_queimadas_agg = df_queimadas.groupby(['ANO', 'MES'], as_index=False).agg({\n",
    "    'FRP': 'mean',\n",
    "    'RISCOFOGO': 'mean',\n",
    "    'PRECIPITACAO': 'mean',\n",
    "    'DIASEMCHUVA': 'mean'\n",
    "})\n",
    "\n",
    "# 5. Juntar dados de desmatamento e queimadas (por ano/mês)\n",
    "df_ambiente = pd.merge(df_desmatamento, df_queimadas_agg, on=['ANO', 'MES'], how='outer')\n",
    "\n",
    "# 6. Unir com a base de mortalidade (mantendo CID-10 separadamente)\n",
    "df_final = pd.merge(df_mortalidade_long, df_ambiente, on=['ANO', 'MES'], how='left')\n",
    "\n",
    "# 7. Salvar resultado\n",
    "df_final = df_final.sort_values(by=['ANO', 'MES', 'Categoria CID-10'])\n",
    "df_final.to_csv('dados_unificados_com_cid10.csv', sep=';', index=False)\n"
   ]
  },
  {
   "cell_type": "code",
   "execution_count": 3,
   "id": "09ff8a28",
   "metadata": {},
   "outputs": [
    {
     "name": "stdout",
     "output_type": "stream",
     "text": [
      "    ano                                   Categoria CID-10  mes OBITOS  \\\n",
      "0  2020                               J01   Sinusite aguda    1      -   \n",
      "1  2020  J06   Infecc agudas vias aereas super loc mult NE    1      1   \n",
      "2  2020         J11   Influenza dev virus nao identificado    1      -   \n",
      "3  2020                         J12   Pneumonia viral NCOP    1      -   \n",
      "4  2020                        J15   Pneumonia bacter NCOP    1     16   \n",
      "\n",
      "   AREA_DESMATADA_KM2  FRP  RISCOFOGO  PRECIPITACAO  DIASEMCHUVA  pm2.5_atm  \n",
      "0            0.070725  NaN        0.0      1.111111     2.333333    10.9135  \n",
      "1            0.070725  NaN        0.0      1.111111     2.333333    10.9135  \n",
      "2            0.070725  NaN        0.0      1.111111     2.333333    10.9135  \n",
      "3            0.070725  NaN        0.0      1.111111     2.333333    10.9135  \n",
      "4            0.070725  NaN        0.0      1.111111     2.333333    10.9135  \n"
     ]
    }
   ],
   "source": [
    "import pandas as pd\n",
    "\n",
    "# Carrega os dois arquivos\n",
    "df_cid10 = pd.read_csv(\"dados_unificados_com_cid10.csv\", sep=\";\")\n",
    "df_ar = pd.read_csv(\"media_mensal_qualidade_ar_manaus.csv\", sep=\";\")\n",
    "\n",
    "# Garante consistência dos nomes\n",
    "df_cid10 = df_cid10.rename(columns={\"ANO\": \"ano\", \"MES\": \"mes\"})\n",
    "\n",
    "# Mantém apenas as colunas essenciais (ano, mes, pm2.5_atm)\n",
    "df_ar = df_ar[[\"ano\", \"mes\", \"pm2.5_atm\"]]\n",
    "\n",
    "# Faz o merge por ano e mês\n",
    "df_merged = pd.merge(df_cid10, df_ar, on=[\"ano\", \"mes\"], how=\"left\")\n",
    "\n",
    "# Exibe amostra\n",
    "print(df_merged.head())\n",
    "\n",
    "# Salva o resultado\n",
    "df_merged.to_csv(\"dados_unificados_com_pm25.csv\", sep=\";\", index=False)\n"
   ]
  },
  {
   "cell_type": "code",
   "execution_count": 4,
   "id": "aeaa02dd",
   "metadata": {},
   "outputs": [
    {
     "name": "stdout",
     "output_type": "stream",
     "text": [
      "📄 Checando mortalidade...\n"
     ]
    }
   ],
   "source": [
    "import pandas as pd\n",
    "import glob\n",
    "\n",
    "# --- Mortalidade ---\n",
    "print(\"📄 Checando mortalidade...\")\n",
    "mortalidade_path = 'base_dados/mortalidade'\n",
    "for file in glob.glob(f'{mortalidade_path}/mortalidade_*.csv'):\n",
    "    year = int(file[-8:-4])\n",
    "    print(f\"\\n➡ Lendo arquivo: {file} (ano {year})\")\n",
    "    df = pd.read_csv(file, sep=';', encoding='latin1')\n",
    "    print(f\"Colunas encontradas: {list(df.columns)}\")\n"
   ]
  },
  {
   "cell_type": "code",
   "execution_count": 5,
   "id": "61bfce5b",
   "metadata": {},
   "outputs": [
    {
     "name": "stdout",
     "output_type": "stream",
     "text": [
      "    ano  mes  pm2.5_atm QUALIDADE_AR_CLASSIFICADA\n",
      "0  2020    1    10.9135                       Boa\n",
      "1  2020    1    10.9135                       Boa\n",
      "2  2020    1    10.9135                       Boa\n",
      "3  2020    1    10.9135                       Boa\n",
      "4  2020    1    10.9135                       Boa\n"
     ]
    }
   ],
   "source": [
    "import pandas as pd\n",
    "\n",
    "# Carrega a tabela unificada gerada anteriormente\n",
    "df = pd.read_csv(\"dados_unificados_com_pm25.csv\", sep=\";\")\n",
    "\n",
    "# Função para classificar qualidade do ar com base no PM2.5\n",
    "def classificar_qualidade_ar(pm25):\n",
    "    if pd.isna(pm25):\n",
    "        return \"Sem dados\"\n",
    "    elif pm25 <= 12.0:\n",
    "        return \"Boa\"\n",
    "    elif pm25 <= 35.4:\n",
    "        return \"Moderada\"\n",
    "    elif pm25 <= 55.4:\n",
    "        return \"Ruim\"\n",
    "    elif pm25 <= 150.4:\n",
    "        return \"Muito Ruim\"\n",
    "    elif pm25 <= 250.4:\n",
    "        return \"Péssima\"\n",
    "    else:\n",
    "        return \"Perigosa\"\n",
    "\n",
    "# Aplica a função\n",
    "df[\"QUALIDADE_AR_CLASSIFICADA\"] = df[\"pm2.5_atm\"].apply(classificar_qualidade_ar)\n",
    "\n",
    "# Exibe exemplo\n",
    "print(df[[\"ano\", \"mes\", \"pm2.5_atm\", \"QUALIDADE_AR_CLASSIFICADA\"]].head())\n",
    "\n",
    "# Salva resultado\n",
    "df.to_csv(\"dados_unificados_com_classificacao_ar.csv\", sep=\";\", index=False)\n"
   ]
  }
 ],
 "metadata": {
  "kernelspec": {
   "display_name": "Python 3",
   "language": "python",
   "name": "python3"
  },
  "language_info": {
   "codemirror_mode": {
    "name": "ipython",
    "version": 3
   },
   "file_extension": ".py",
   "mimetype": "text/x-python",
   "name": "python",
   "nbconvert_exporter": "python",
   "pygments_lexer": "ipython3",
   "version": "3.13.1"
  }
 },
 "nbformat": 4,
 "nbformat_minor": 5
}
