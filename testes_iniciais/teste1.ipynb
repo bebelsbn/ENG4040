{
 "cells": [
  {
   "cell_type": "code",
   "execution_count": 6,
   "metadata": {},
   "outputs": [
    {
     "name": "stdout",
     "output_type": "stream",
     "text": [
      "Número de registros com CAUSABAS_O entre J00 e J99: 173573\n",
      "\n",
      "10 primeiros registros com CAUSABAS_O entre J00 e J99:\n",
      "14     J189\n",
      "19     J189\n",
      "30     J449\n",
      "33     J181\n",
      "55      J22\n",
      "69     J449\n",
      "76     J189\n",
      "79     J841\n",
      "108    J440\n",
      "110    J189\n",
      "Name: CAUSABAS_O, dtype: object\n"
     ]
    }
   ],
   "source": [
    "import pandas as pd\n",
    "\n",
    "# Caminho para o arquivo CSV\n",
    "caminho_csv = '../base_dados/DO23OPEN.csv'\n",
    "\n",
    "# Carrega o CSV (separador é ';' pelo que parece)\n",
    "df = pd.read_csv(caminho_csv, sep=';', dtype=str)\n",
    "\n",
    "# Filtra os códigos CID-10 que estão entre J00 e J99\n",
    "cid_respiratorio = df['CAUSABAS_O'].dropna().str.upper()\n",
    "cid_respiratorio = cid_respiratorio[cid_respiratorio.str.match(r'^J\\d{2}')]\n",
    "\n",
    "# Mostra a contagem\n",
    "print(f'Número de registros com CAUSABAS_O entre J00 e J99: {len(cid_respiratorio)}')\n",
    "\n",
    "# Mostra os 10 primeiros registros\n",
    "print(\"\\n10 primeiros registros com CAUSABAS_O entre J00 e J99:\")\n",
    "print(cid_respiratorio.head(10))\n"
   ]
  }
 ],
 "metadata": {
  "kernelspec": {
   "display_name": "Python 3",
   "language"