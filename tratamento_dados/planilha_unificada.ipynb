{
 "cells": [
  {
   "cell_type": "markdown",
   "id": "58fb78bc",
   "metadata": {},
   "source": [
    "TRATAMENTO DOS DADOS"
   ]
  },
  {
   "cell_type": "code",
   "execution_count": 15,
   "id": "8017a126",
   "metadata": {},
   "outputs": [
    {
     "name": "stdout",
     "output_type": "stream",
     "text": [
      "📄 Carregando desmatamento...\n",
      "📄 Carregando mortalidade unificada...\n",
      "📄 Carregando queimadas unificadas...\n",
      "🔗 Unindo mortalidade e queimadas...\n",
      "🔗 Unindo desmatamento...\n",
      "✅ Planilha unificada salva como 'planilha_unificada.csv'\n"
     ]
    }
   ],
   "source": [
    "import pandas as pd\n",
    "\n",
    "# --- Arquivos diretos ---\n",
    "desmatamento_file = 'base_dados/desmatamento/desmatamento.csv'\n",
    "mortalidade_file = 'base_dados/mortalidade/mortalidade_unificada.csv'\n",
    "queimadas_file = 'base_dados/queimadas/queimadas_unificadas.csv'\n",
    "\n",
    "\n",
    "# --- Carregar desmatamento ---\n",
    "print(\"📄 Carregando desmatamento...\")\n",
    "desmatamento = pd.read_csv(desmatamento_file, sep=';')\n",
    "desmatamento['municipality'] = desmatamento['municipality'].str.upper()\n",
    "desmatamento['geocode_ibge'] = desmatamento['geocode_ibge'].astype(str).str[:6]\n",
    "desmatamento['year'] = desmatamento['year'].astype(int)\n",
    "\n",
    "# --- Carregar mortalidade ---\n",
    "print(\"📄 Carregando mortalidade unificada...\")\n",
    "mortalidade = pd.read_csv(mortalidade_file)\n",
    "mortalidade['Mes'] = mortalidade['Mes'].map({\n",
    "    'Janeiro': 1, 'Fevereiro': 2, 'Março': 3, 'Abril': 4, 'Maio': 5, 'Junho': 6,\n",
    "    'Julho': 7, 'Agosto': 8, 'Setembro': 9, 'Outubro': 10, 'Novembro': 11, 'Dezembro': 12\n",
    "})\n",
    "mortalidade = mortalidade.rename(columns={\n",
    "    'Ano': 'year',\n",
    "    'Mes': 'month',\n",
    "    'Codigo_IBGE': 'geocode_ibge',\n",
    "    'Municipio_Nome': 'municipality',\n",
    "    'Obitos': 'deaths'\n",
    "})\n",
    "mortalidade['geocode_ibge'] = mortalidade['geocode_ibge'].astype(str).str[:6]\n",
    "mortalidade['municipality'] = mortalidade['municipality'].str.upper()\n",
    "\n",
    "# --- Carregar queimadas ---\n",
    "print(\"📄 Carregando queimadas unificadas...\")\n",
    "queimadas = pd.read_csv(queimadas_file)\n",
    "queimadas = queimadas.rename(columns={\n",
    "    'Ano': 'year',\n",
    "    'Mes': 'month',\n",
    "    'Municipio': 'municipality'\n",
    "})\n",
    "queimadas['municipality'] = queimadas['municipality'].str.upper()\n",
    "\n",
    "# --- Garantir tipos consistentes ---\n",
    "mortalidade['month'] = mortalidade['month'].astype(int)\n",
    "queimadas['month'] = queimadas['month'].astype(int)\n",
    "\n",
    "# --- Unir mortalidade e queimadas ---\n",
    "print(\"🔗 Unindo mortalidade e queimadas...\")\n",
    "merged = pd.merge(mortalidade, queimadas, how='left',\n",
    "                  on=['year', 'month', 'municipality'])\n",
    "\n",
    "# --- Unir desmatamento ---\n",
    "print(\"🔗 Unindo desmatamento...\")\n",
    "merged = pd.merge(merged, desmatamento, how='left',\n",
    "                  left_on=['year', 'geocode_ibge'],\n",
    "                  right_on=['year', 'geocode_ibge'])\n",
    "\n",
    "# --- Organizar resultado final ---\n",
    "final = merged[['year', 'month', 'municipality_x', 'deaths', \n",
    "                'DiaSemChuva', 'Precipitacao', 'RiscoFogo', 'FRP', 'areakm']]\n",
    "\n",
    "# Renomear para nomes finais bonitos\n",
    "final = final.rename(columns={\n",
    "    'municipality_x': 'municipality',\n",
    "    'areakm': 'area_desmatada_km2'\n",
    "})\n",
    "\n",
    "\n",
    "# --- Salvar CSV final ---\n",
    "final.to_csv('planilha_unificada.csv', index=False, encoding='utf-8')\n",
    "print(\"✅ Planilha unificada salva como 'planilha_unificada.csv'\")\n"
   ]
  },
  {
   "cell_type": "code",
   "execution_count": 10,
   "id": "aeaa02dd",
   "metadata": {},
   "outputs": [
    {
     "name": "stdout",
     "output_type": "stream",
     "text": [
      "📄 Checando mortalidade...\n",
      "\n",
      "➡ Lendo arquivo: base_dados/mortalidade\\mortalidade_2020.csv (ano 2020)\n",
      "Colunas encontradas: ['Municipio', 'Janeiro', 'Fevereiro', 'Marco', 'Abril', 'Maio', 'Junho', 'Julho', 'Agosto', 'Setembro', 'Outubro', 'Novembro', 'Dezembro', 'Total']\n",
      "\n",
      "➡ Lendo arquivo: base_dados/mortalidade\\mortalidade_2021.csv (ano 2021)\n",
      "Colunas encontradas: [' \"Municipio\"', 'Janeiro', 'Fevereiro', 'Marco', 'Abril', 'Maio', 'Junho', 'Julho', 'Agosto', 'Setembro', 'Outubro', 'Novembro', 'Dezembro', 'Total']\n",
      "\n",
      "➡ Lendo arquivo: base_dados/mortalidade\\mortalidade_2022.csv (ano 2022)\n",
      "Colunas encontradas: ['Municipio', 'Janeiro', 'Fevereiro', 'Marco', 'Abril', 'Maio', 'Junho', 'Julho', 'Agosto', 'Setembro', 'Outubro', 'Novembro', 'Dezembro', 'Total']\n",
      "\n",
      "➡ Lendo arquivo: base_dados/mortalidade\\mortalidade_2023.csv (ano 2023)\n",
      "Colunas encontradas: ['Municipio', 'Janeiro', 'Fevereiro', 'Marco', 'Abril', 'Maio', 'Junho', 'Julho', 'Agosto', 'Setembro', 'Outubro', 'Novembro', 'Dezembro', 'Total']\n"
     ]
    }
   ],
   "source": [
    "import pandas as pd\n",
    "import glob\n",
    "\n",
    "# --- Mortalidade ---\n",
    "print(\"📄 Checando mortalidade...\")\n",
    "mortalidade_path = 'base_dados/mortalidade'\n",
    "for file in glob.glob(f'{mortalidade_path}/mortalidade_*.csv'):\n",
    "    year = int(file[-8:-4])\n",
    "    print(f\"\\n➡ Lendo arquivo: {file} (ano {year})\")\n",
    "    df = pd.read_csv(file, sep=';', encoding='latin1')\n",
    "    print(f\"Colunas encontradas: {list(df.columns)}\")\n"
   ]
  }
 ],
 "metadata": {
  "kernelspec": {
   "display_name": "Python 3",
   "language": "python",
   "name": "python3"
  },
  "language_info": {
   "codemirror_mode": {
    "name": "ipython",
    "version": 3
   },
   "file_extension": ".py",
   "mimetype": "text/x-python",
   "name": "python",
   "nbconvert_exporter": "python",
   "pygments_lexer": "ipython3",
   "version": "3.13.1"
  }
 },
 "nbformat": 4,
 "nbformat_minor": 5
}
